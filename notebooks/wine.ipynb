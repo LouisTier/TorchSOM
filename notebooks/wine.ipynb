{
 "cells": [
  {
   "cell_type": "markdown",
   "metadata": {},
   "source": [
    "# Libraries"
   ]
  },
  {
   "cell_type": "code",
   "execution_count": 1,
   "metadata": {},
   "outputs": [],
   "source": [
    "import numpy as np\n",
    "import pandas as pd\n",
    "import torch\n",
    "\n",
    "from sklearn.preprocessing import StandardScaler\n",
    "\n",
    "from bib_sensing.TorchSOM.TorchSOM.core import TorchSOM # To modify\n",
    "from bib_sensing.TorchSOM.TorchSOM.plotting import SOMVisualizer, VisualizationConfig # To modify"
   ]
  },
  {
   "cell_type": "code",
   "execution_count": 2,
   "metadata": {},
   "outputs": [],
   "source": [
    "random_seed = 42\n",
    "torch.manual_seed(random_seed)\n",
    "device = torch.device(\"cuda\" if torch.cuda.is_available() else \"cpu\")"
   ]
  },
  {
   "cell_type": "markdown",
   "metadata": {},
   "source": [
    "# Preprocessing "
   ]
  },
  {
   "cell_type": "code",
   "execution_count": 3,
   "metadata": {},
   "outputs": [],
   "source": [
    "wine_df = pd.read_csv(\n",
    "    filepath_or_buffer=\"../data/wine.csv\",\n",
    ")\n",
    "wine_df.rename(columns={'OD280/OD315': 'OD280_OD315'}, inplace=True)"
   ]
  },
  {
   "cell_type": "code",
   "execution_count": 4,
   "metadata": {},
   "outputs": [],
   "source": [
    "feature_columns = wine_df.columns[1:]  \n",
    "scaler = StandardScaler()\n",
    "wine_df[feature_columns] = scaler.fit_transform(wine_df[feature_columns])"
   ]
  },
  {
   "cell_type": "code",
   "execution_count": 5,
   "metadata": {},
   "outputs": [
    {
     "data": {
      "application/vnd.microsoft.datawrangler.viewer.v0+json": {
       "columns": [
        {
         "name": "index",
         "rawType": "int64",
         "type": "integer"
        },
        {
         "name": "Class",
         "rawType": "int64",
         "type": "integer"
        },
        {
         "name": "Alcohol",
         "rawType": "float64",
         "type": "float"
        },
        {
         "name": "Malic Acid",
         "rawType": "float64",
         "type": "float"
        },
        {
         "name": "Ash",
         "rawType": "float64",
         "type": "float"
        },
        {
         "name": "Alcalinity of Ash",
         "rawType": "float64",
         "type": "float"
        },
        {
         "name": "Magnesium",
         "rawType": "float64",
         "type": "float"
        },
        {
         "name": "Total Phenols",
         "rawType": "float64",
         "type": "float"
        },
        {
         "name": "Flavanoids",
         "rawType": "float64",
         "type": "float"
        },
        {
         "name": "Nonflavanoid Phenols",
         "rawType": "float64",
         "type": "float"
        },
        {
         "name": "Proanthocyanins",
         "rawType": "float64",
         "type": "float"
        },
        {
         "name": "Color Intensity",
         "rawType": "float64",
         "type": "float"
        },
        {
         "name": "Hue",
         "rawType": "float64",
         "type": "float"
        },
        {
         "name": "OD280_OD315",
         "rawType": "float64",
         "type": "float"
        },
        {
         "name": "Proline",
         "rawType": "float64",
         "type": "float"
        }
       ],
       "conversionMethod": "pd.DataFrame",
       "ref": "c4f9775b-63f8-4c88-8bce-95e4ccfd4f7f",
       "rows": [
        [
         "0",
         "1",
         "1.518612540989146",
         "-0.5622497983286235",
         "0.23205254099474312",
         "-1.1695931750229027",
         "1.9139052175708113",
         "0.8089973946320397",
         "1.0348189581307363",
         "-0.6595631143050643",
         "1.2248839840604524",
         "0.2517168498188536",
         "0.3621772757786114",
         "1.8479195665066517",
         "1.0130089267476907"
        ],
        [
         "1",
         "1",
         "0.24628962701505472",
         "-0.4994133781369054",
         "-0.8279963232661995",
         "-2.4908471410952195",
         "0.018145020611759512",
         "0.5686476623890726",
         "0.7336289414294697",
         "-0.8207192355765833",
         "-0.5447209874470061",
         "-0.2933213287130475",
         "0.40605066293567743",
         "1.1134493025258219",
         "0.9652415206686003"
        ],
        [
         "2",
         "1",
         "0.19687902841412025",
         "0.021231246308758504",
         "1.1093343596934533",
         "-0.26873819815541344",
         "0.08835836123987255",
         "0.8089973946320397",
         "1.2155329681514961",
         "-0.4984069930335457",
         "2.1359677317672627",
         "0.2690196491373267",
         "0.31830388862154535",
         "0.7885874549958394",
         "1.3951481753804136"
        ],
        [
         "3",
         "1",
         "1.6915496360924187",
         "-0.34681064338559014",
         "0.4879264047818666",
         "-0.8092511842759069",
         "0.930918448777229",
         "2.4914455203328107",
         "1.466524648735885",
         "-0.9818753568481025",
         "1.0321547297378582",
         "1.1860680130163985",
         "-0.42754369304857665",
         "1.1840714432932098",
         "2.3345738282691912"
        ],
        [
         "4",
         "1",
         "0.2957002256159914",
         "0.22769376979583217",
         "1.84040254194238",
         "0.45194578333857716",
         "1.281985151917794",
         "0.8089973946320397",
         "0.663351270865841",
         "0.22679555268828971",
         "0.4014044428639123",
         "-0.3192755276907569",
         "0.3621772757786114",
         "0.44960117931237975",
         "-0.03787400699229761"
        ]
       ],
       "shape": {
        "columns": 14,
        "rows": 5
       }
      },
      "text/html": [
       "<div>\n",
       "<style scoped>\n",
       "    .dataframe tbody tr th:only-of-type {\n",
       "        vertical-align: middle;\n",
       "    }\n",
       "\n",
       "    .dataframe tbody tr th {\n",
       "        vertical-align: top;\n",
       "    }\n",
       "\n",
       "    .dataframe thead th {\n",
       "        text-align: right;\n",
       "    }\n",
       "</style>\n",
       "<table border=\"1\" class=\"dataframe\">\n",
       "  <thead>\n",
       "    <tr style=\"text-align: right;\">\n",
       "      <th></th>\n",
       "      <th>Class</th>\n",
       "      <th>Alcohol</th>\n",
       "      <th>Malic Acid</th>\n",
       "      <th>Ash</th>\n",
       "      <th>Alcalinity of Ash</th>\n",
       "      <th>Magnesium</th>\n",
       "      <th>Total Phenols</th>\n",
       "      <th>Flavanoids</th>\n",
       "      <th>Nonflavanoid Phenols</th>\n",
       "      <th>Proanthocyanins</th>\n",
       "      <th>Color Intensity</th>\n",
       "      <th>Hue</th>\n",
       "      <th>OD280_OD315</th>\n",
       "      <th>Proline</th>\n",
       "    </tr>\n",
       "  </thead>\n",
       "  <tbody>\n",
       "    <tr>\n",
       "      <th>0</th>\n",
       "      <td>1</td>\n",
       "      <td>1.518613</td>\n",
       "      <td>-0.562250</td>\n",
       "      <td>0.232053</td>\n",
       "      <td>-1.169593</td>\n",
       "      <td>1.913905</td>\n",
       "      <td>0.808997</td>\n",
       "      <td>1.034819</td>\n",
       "      <td>-0.659563</td>\n",
       "      <td>1.224884</td>\n",
       "      <td>0.251717</td>\n",
       "      <td>0.362177</td>\n",
       "      <td>1.847920</td>\n",
       "      <td>1.013009</td>\n",
       "    </tr>\n",
       "    <tr>\n",
       "      <th>1</th>\n",
       "      <td>1</td>\n",
       "      <td>0.246290</td>\n",
       "      <td>-0.499413</td>\n",
       "      <td>-0.827996</td>\n",
       "      <td>-2.490847</td>\n",
       "      <td>0.018145</td>\n",
       "      <td>0.568648</td>\n",
       "      <td>0.733629</td>\n",
       "      <td>-0.820719</td>\n",
       "      <td>-0.544721</td>\n",
       "      <td>-0.293321</td>\n",
       "      <td>0.406051</td>\n",
       "      <td>1.113449</td>\n",
       "      <td>0.965242</td>\n",
       "    </tr>\n",
       "    <tr>\n",
       "      <th>2</th>\n",
       "      <td>1</td>\n",
       "      <td>0.196879</td>\n",
       "      <td>0.021231</td>\n",
       "      <td>1.109334</td>\n",
       "      <td>-0.268738</td>\n",
       "      <td>0.088358</td>\n",
       "      <td>0.808997</td>\n",
       "      <td>1.215533</td>\n",
       "      <td>-0.498407</td>\n",
       "      <td>2.135968</td>\n",
       "      <td>0.269020</td>\n",
       "      <td>0.318304</td>\n",
       "      <td>0.788587</td>\n",
       "      <td>1.395148</td>\n",
       "    </tr>\n",
       "    <tr>\n",
       "      <th>3</th>\n",
       "      <td>1</td>\n",
       "      <td>1.691550</td>\n",
       "      <td>-0.346811</td>\n",
       "      <td>0.487926</td>\n",
       "      <td>-0.809251</td>\n",
       "      <td>0.930918</td>\n",
       "      <td>2.491446</td>\n",
       "      <td>1.466525</td>\n",
       "      <td>-0.981875</td>\n",
       "      <td>1.032155</td>\n",
       "      <td>1.186068</td>\n",
       "      <td>-0.427544</td>\n",
       "      <td>1.184071</td>\n",
       "      <td>2.334574</td>\n",
       "    </tr>\n",
       "    <tr>\n",
       "      <th>4</th>\n",
       "      <td>1</td>\n",
       "      <td>0.295700</td>\n",
       "      <td>0.227694</td>\n",
       "      <td>1.840403</td>\n",
       "      <td>0.451946</td>\n",
       "      <td>1.281985</td>\n",
       "      <td>0.808997</td>\n",
       "      <td>0.663351</td>\n",
       "      <td>0.226796</td>\n",
       "      <td>0.401404</td>\n",
       "      <td>-0.319276</td>\n",
       "      <td>0.362177</td>\n",
       "      <td>0.449601</td>\n",
       "      <td>-0.037874</td>\n",
       "    </tr>\n",
       "  </tbody>\n",
       "</table>\n",
       "</div>"
      ],
      "text/plain": [
       "   Class   Alcohol  Malic Acid       Ash  Alcalinity of Ash  Magnesium  \\\n",
       "0      1  1.518613   -0.562250  0.232053          -1.169593   1.913905   \n",
       "1      1  0.246290   -0.499413 -0.827996          -2.490847   0.018145   \n",
       "2      1  0.196879    0.021231  1.109334          -0.268738   0.088358   \n",
       "3      1  1.691550   -0.346811  0.487926          -0.809251   0.930918   \n",
       "4      1  0.295700    0.227694  1.840403           0.451946   1.281985   \n",
       "\n",
       "   Total Phenols  Flavanoids  Nonflavanoid Phenols  Proanthocyanins  \\\n",
       "0       0.808997    1.034819             -0.659563         1.224884   \n",
       "1       0.568648    0.733629             -0.820719        -0.544721   \n",
       "2       0.808997    1.215533             -0.498407         2.135968   \n",
       "3       2.491446    1.466525             -0.981875         1.032155   \n",
       "4       0.808997    0.663351              0.226796         0.401404   \n",
       "\n",
       "   Color Intensity       Hue  OD280_OD315   Proline  \n",
       "0         0.251717  0.362177     1.847920  1.013009  \n",
       "1        -0.293321  0.406051     1.113449  0.965242  \n",
       "2         0.269020  0.318304     0.788587  1.395148  \n",
       "3         1.186068 -0.427544     1.184071  2.334574  \n",
       "4        -0.319276  0.362177     0.449601 -0.037874  "
      ]
     },
     "execution_count": 5,
     "metadata": {},
     "output_type": "execute_result"
    }
   ],
   "source": [
    "wine_df.head()"
   ]
  },
  {
   "cell_type": "code",
   "execution_count": 6,
   "metadata": {},
   "outputs": [
    {
     "data": {
      "application/vnd.microsoft.datawrangler.viewer.v0+json": {
       "columns": [
        {
         "name": "index",
         "rawType": "object",
         "type": "string"
        },
        {
         "name": "Class",
         "rawType": "float64",
         "type": "float"
        },
        {
         "name": "Alcohol",
         "rawType": "float64",
         "type": "float"
        },
        {
         "name": "Malic Acid",
         "rawType": "float64",
         "type": "float"
        },
        {
         "name": "Ash",
         "rawType": "float64",
         "type": "float"
        },
        {
         "name": "Alcalinity of Ash",
         "rawType": "float64",
         "type": "float"
        },
        {
         "name": "Magnesium",
         "rawType": "float64",
         "type": "float"
        },
        {
         "name": "Total Phenols",
         "rawType": "float64",
         "type": "float"
        },
        {
         "name": "Flavanoids",
         "rawType": "float64",
         "type": "float"
        },
        {
         "name": "Nonflavanoid Phenols",
         "rawType": "float64",
         "type": "float"
        },
        {
         "name": "Proanthocyanins",
         "rawType": "float64",
         "type": "float"
        },
        {
         "name": "Color Intensity",
         "rawType": "float64",
         "type": "float"
        },
        {
         "name": "Hue",
         "rawType": "float64",
         "type": "float"
        },
        {
         "name": "OD280_OD315",
         "rawType": "float64",
         "type": "float"
        },
        {
         "name": "Proline",
         "rawType": "float64",
         "type": "float"
        }
       ],
       "conversionMethod": "pd.DataFrame",
       "ref": "0318678b-492c-4cf2-9065-fa3171cf967d",
       "rows": [
        [
         "count",
         "178.0",
         "178.0",
         "178.0",
         "178.0",
         "178.0",
         "178.0",
         "178.0",
         "178.0",
         "178.0",
         "178.0",
         "178.0",
         "178.0",
         "178.0",
         "178.0"
        ],
        [
         "mean",
         "1.9382022471910112",
         "-8.382807556720283e-16",
         "-1.197543936674326e-16",
         "-8.370333140713259e-16",
         "-3.991813122247754e-17",
         "-3.991813122247754e-17",
         "0.0",
         "-3.9918131222477537e-16",
         "3.5926318100229784e-16",
         "-1.197543936674326e-16",
         "2.494883201404846e-17",
         "1.9959065611238769e-16",
         "3.193450497798203e-16",
         "-1.5967252488991015e-16"
        ],
        [
         "std",
         "0.7750349899850564",
         "1.0028208800748637",
         "1.002820880074864",
         "1.002820880074864",
         "1.0028208800748637",
         "1.0028208800748637",
         "1.0028208800748637",
         "1.0028208800748637",
         "1.0028208800748637",
         "1.0028208800748635",
         "1.0028208800748637",
         "1.0028208800748637",
         "1.0028208800748637",
         "1.0028208800748637"
        ],
        [
         "min",
         "1.0",
         "-2.4342353470856977",
         "-1.4329830495567168",
         "-3.6791622340370105",
         "-2.6710181364687173",
         "-2.0882551982316313",
         "-2.107246023249296",
         "-1.6959705266274119",
         "-1.8682340238414565",
         "-2.0690341807257084",
         "-1.634288275894709",
         "-2.0947324050170844",
         "-1.8950538941648851",
         "-1.493187645535251"
        ],
        [
         "25%",
         "1.0",
         "-0.7882447811920328",
         "-0.6587485864801905",
         "-0.572122459479076",
         "-0.6891371873602422",
         "-0.8244150669255969",
         "-0.8854682176808792",
         "-0.8275393118054273",
         "-0.7401411749408239",
         "-0.5972835113531684",
         "-0.795102508948766",
         "-0.7675624435158379",
         "-0.9522483149202622",
         "-0.7846377886954105"
        ],
        [
         "50%",
         "2.0",
         "0.060999882261548254",
         "-0.42311201076124766",
         "-0.023821322792381975",
         "0.00151829490483276",
         "-0.12228166064446655",
         "0.09595985564457041",
         "0.10614973996849836",
         "-0.17609475049050752",
         "-0.0628978516405199",
         "-0.15922463399488132",
         "0.03312687210061617",
         "0.2377347570102168",
         "-0.23372037191656814"
        ],
        [
         "75%",
         "3.0",
         "0.8361286478137232",
         "0.6697928690018488",
         "0.6981085071784328",
         "0.6020882794831586",
         "0.5096384050085507",
         "0.8089973946320397",
         "0.8490851144982885",
         "0.609541340708147",
         "0.6291753797906147",
         "0.4939560402774766",
         "0.7131643730351397",
         "0.7885874549958394",
         "0.7582494276592087"
        ],
        [
         "max",
         "3.0",
         "2.2597715200031785",
         "3.1091924671589037",
         "3.156325269990446",
         "3.1545107139410433",
         "4.371372139554768",
         "2.539515466781404",
         "3.0628317372525964",
         "2.4024031898537954",
         "3.4850725120254245",
         "3.435431924417896",
         "3.3016942153020326",
         "1.960914991734472",
         "2.971472575990396"
        ]
       ],
       "shape": {
        "columns": 14,
        "rows": 8
       }
      },
      "text/html": [
       "<div>\n",
       "<style scoped>\n",
       "    .dataframe tbody tr th:only-of-type {\n",
       "        vertical-align: middle;\n",
       "    }\n",
       "\n",
       "    .dataframe tbody tr th {\n",
       "        vertical-align: top;\n",
       "    }\n",
       "\n",
       "    .dataframe thead th {\n",
       "        text-align: right;\n",
       "    }\n",
       "</style>\n",
       "<table border=\"1\" class=\"dataframe\">\n",
       "  <thead>\n",
       "    <tr style=\"text-align: right;\">\n",
       "      <th></th>\n",
       "      <th>Class</th>\n",
       "      <th>Alcohol</th>\n",
       "      <th>Malic Acid</th>\n",
       "      <th>Ash</th>\n",
       "      <th>Alcalinity of Ash</th>\n",
       "      <th>Magnesium</th>\n",
       "      <th>Total Phenols</th>\n",
       "      <th>Flavanoids</th>\n",
       "      <th>Nonflavanoid Phenols</th>\n",
       "      <th>Proanthocyanins</th>\n",
       "      <th>Color Intensity</th>\n",
       "      <th>Hue</th>\n",
       "      <th>OD280_OD315</th>\n",
       "      <th>Proline</th>\n",
       "    </tr>\n",
       "  </thead>\n",
       "  <tbody>\n",
       "    <tr>\n",
       "      <th>count</th>\n",
       "      <td>178.000000</td>\n",
       "      <td>1.780000e+02</td>\n",
       "      <td>1.780000e+02</td>\n",
       "      <td>1.780000e+02</td>\n",
       "      <td>1.780000e+02</td>\n",
       "      <td>1.780000e+02</td>\n",
       "      <td>178.000000</td>\n",
       "      <td>1.780000e+02</td>\n",
       "      <td>1.780000e+02</td>\n",
       "      <td>1.780000e+02</td>\n",
       "      <td>1.780000e+02</td>\n",
       "      <td>1.780000e+02</td>\n",
       "      <td>1.780000e+02</td>\n",
       "      <td>1.780000e+02</td>\n",
       "    </tr>\n",
       "    <tr>\n",
       "      <th>mean</th>\n",
       "      <td>1.938202</td>\n",
       "      <td>-8.382808e-16</td>\n",
       "      <td>-1.197544e-16</td>\n",
       "      <td>-8.370333e-16</td>\n",
       "      <td>-3.991813e-17</td>\n",
       "      <td>-3.991813e-17</td>\n",
       "      <td>0.000000</td>\n",
       "      <td>-3.991813e-16</td>\n",
       "      <td>3.592632e-16</td>\n",
       "      <td>-1.197544e-16</td>\n",
       "      <td>2.494883e-17</td>\n",
       "      <td>1.995907e-16</td>\n",
       "      <td>3.193450e-16</td>\n",
       "      <td>-1.596725e-16</td>\n",
       "    </tr>\n",
       "    <tr>\n",
       "      <th>std</th>\n",
       "      <td>0.775035</td>\n",
       "      <td>1.002821e+00</td>\n",
       "      <td>1.002821e+00</td>\n",
       "      <td>1.002821e+00</td>\n",
       "      <td>1.002821e+00</td>\n",
       "      <td>1.002821e+00</td>\n",
       "      <td>1.002821</td>\n",
       "      <td>1.002821e+00</td>\n",
       "      <td>1.002821e+00</td>\n",
       "      <td>1.002821e+00</td>\n",
       "      <td>1.002821e+00</td>\n",
       "      <td>1.002821e+00</td>\n",
       "      <td>1.002821e+00</td>\n",
       "      <td>1.002821e+00</td>\n",
       "    </tr>\n",
       "    <tr>\n",
       "      <th>min</th>\n",
       "      <td>1.000000</td>\n",
       "      <td>-2.434235e+00</td>\n",
       "      <td>-1.432983e+00</td>\n",
       "      <td>-3.679162e+00</td>\n",
       "      <td>-2.671018e+00</td>\n",
       "      <td>-2.088255e+00</td>\n",
       "      <td>-2.107246</td>\n",
       "      <td>-1.695971e+00</td>\n",
       "      <td>-1.868234e+00</td>\n",
       "      <td>-2.069034e+00</td>\n",
       "      <td>-1.634288e+00</td>\n",
       "      <td>-2.094732e+00</td>\n",
       "      <td>-1.895054e+00</td>\n",
       "      <td>-1.493188e+00</td>\n",
       "    </tr>\n",
       "    <tr>\n",
       "      <th>25%</th>\n",
       "      <td>1.000000</td>\n",
       "      <td>-7.882448e-01</td>\n",
       "      <td>-6.587486e-01</td>\n",
       "      <td>-5.721225e-01</td>\n",
       "      <td>-6.891372e-01</td>\n",
       "      <td>-8.244151e-01</td>\n",
       "      <td>-0.885468</td>\n",
       "      <td>-8.275393e-01</td>\n",
       "      <td>-7.401412e-01</td>\n",
       "      <td>-5.972835e-01</td>\n",
       "      <td>-7.951025e-01</td>\n",
       "      <td>-7.675624e-01</td>\n",
       "      <td>-9.522483e-01</td>\n",
       "      <td>-7.846378e-01</td>\n",
       "    </tr>\n",
       "    <tr>\n",
       "      <th>50%</th>\n",
       "      <td>2.000000</td>\n",
       "      <td>6.099988e-02</td>\n",
       "      <td>-4.231120e-01</td>\n",
       "      <td>-2.382132e-02</td>\n",
       "      <td>1.518295e-03</td>\n",
       "      <td>-1.222817e-01</td>\n",
       "      <td>0.095960</td>\n",
       "      <td>1.061497e-01</td>\n",
       "      <td>-1.760948e-01</td>\n",
       "      <td>-6.289785e-02</td>\n",
       "      <td>-1.592246e-01</td>\n",
       "      <td>3.312687e-02</td>\n",
       "      <td>2.377348e-01</td>\n",
       "      <td>-2.337204e-01</td>\n",
       "    </tr>\n",
       "    <tr>\n",
       "      <th>75%</th>\n",
       "      <td>3.000000</td>\n",
       "      <td>8.361286e-01</td>\n",
       "      <td>6.697929e-01</td>\n",
       "      <td>6.981085e-01</td>\n",
       "      <td>6.020883e-01</td>\n",
       "      <td>5.096384e-01</td>\n",
       "      <td>0.808997</td>\n",
       "      <td>8.490851e-01</td>\n",
       "      <td>6.095413e-01</td>\n",
       "      <td>6.291754e-01</td>\n",
       "      <td>4.939560e-01</td>\n",
       "      <td>7.131644e-01</td>\n",
       "      <td>7.885875e-01</td>\n",
       "      <td>7.582494e-01</td>\n",
       "    </tr>\n",
       "    <tr>\n",
       "      <th>max</th>\n",
       "      <td>3.000000</td>\n",
       "      <td>2.259772e+00</td>\n",
       "      <td>3.109192e+00</td>\n",
       "      <td>3.156325e+00</td>\n",
       "      <td>3.154511e+00</td>\n",
       "      <td>4.371372e+00</td>\n",
       "      <td>2.539515</td>\n",
       "      <td>3.062832e+00</td>\n",
       "      <td>2.402403e+00</td>\n",
       "      <td>3.485073e+00</td>\n",
       "      <td>3.435432e+00</td>\n",
       "      <td>3.301694e+00</td>\n",
       "      <td>1.960915e+00</td>\n",
       "      <td>2.971473e+00</td>\n",
       "    </tr>\n",
       "  </tbody>\n",
       "</table>\n",
       "</div>"
      ],
      "text/plain": [
       "            Class       Alcohol    Malic Acid           Ash  \\\n",
       "count  178.000000  1.780000e+02  1.780000e+02  1.780000e+02   \n",
       "mean     1.938202 -8.382808e-16 -1.197544e-16 -8.370333e-16   \n",
       "std      0.775035  1.002821e+00  1.002821e+00  1.002821e+00   \n",
       "min      1.000000 -2.434235e+00 -1.432983e+00 -3.679162e+00   \n",
       "25%      1.000000 -7.882448e-01 -6.587486e-01 -5.721225e-01   \n",
       "50%      2.000000  6.099988e-02 -4.231120e-01 -2.382132e-02   \n",
       "75%      3.000000  8.361286e-01  6.697929e-01  6.981085e-01   \n",
       "max      3.000000  2.259772e+00  3.109192e+00  3.156325e+00   \n",
       "\n",
       "       Alcalinity of Ash     Magnesium  Total Phenols    Flavanoids  \\\n",
       "count       1.780000e+02  1.780000e+02     178.000000  1.780000e+02   \n",
       "mean       -3.991813e-17 -3.991813e-17       0.000000 -3.991813e-16   \n",
       "std         1.002821e+00  1.002821e+00       1.002821  1.002821e+00   \n",
       "min        -2.671018e+00 -2.088255e+00      -2.107246 -1.695971e+00   \n",
       "25%        -6.891372e-01 -8.244151e-01      -0.885468 -8.275393e-01   \n",
       "50%         1.518295e-03 -1.222817e-01       0.095960  1.061497e-01   \n",
       "75%         6.020883e-01  5.096384e-01       0.808997  8.490851e-01   \n",
       "max         3.154511e+00  4.371372e+00       2.539515  3.062832e+00   \n",
       "\n",
       "       Nonflavanoid Phenols  Proanthocyanins  Color Intensity           Hue  \\\n",
       "count          1.780000e+02     1.780000e+02     1.780000e+02  1.780000e+02   \n",
       "mean           3.592632e-16    -1.197544e-16     2.494883e-17  1.995907e-16   \n",
       "std            1.002821e+00     1.002821e+00     1.002821e+00  1.002821e+00   \n",
       "min           -1.868234e+00    -2.069034e+00    -1.634288e+00 -2.094732e+00   \n",
       "25%           -7.401412e-01    -5.972835e-01    -7.951025e-01 -7.675624e-01   \n",
       "50%           -1.760948e-01    -6.289785e-02    -1.592246e-01  3.312687e-02   \n",
       "75%            6.095413e-01     6.291754e-01     4.939560e-01  7.131644e-01   \n",
       "max            2.402403e+00     3.485073e+00     3.435432e+00  3.301694e+00   \n",
       "\n",
       "        OD280_OD315       Proline  \n",
       "count  1.780000e+02  1.780000e+02  \n",
       "mean   3.193450e-16 -1.596725e-16  \n",
       "std    1.002821e+00  1.002821e+00  \n",
       "min   -1.895054e+00 -1.493188e+00  \n",
       "25%   -9.522483e-01 -7.846378e-01  \n",
       "50%    2.377348e-01 -2.337204e-01  \n",
       "75%    7.885875e-01  7.582494e-01  \n",
       "max    1.960915e+00  2.971473e+00  "
      ]
     },
     "execution_count": 6,
     "metadata": {},
     "output_type": "execute_result"
    }
   ],
   "source": [
    "wine_df.describe()"
   ]
  },
  {
   "cell_type": "code",
   "execution_count": 7,
   "metadata": {},
   "outputs": [
    {
     "data": {
      "text/plain": [
       "['Alcohol',\n",
       " 'Malic Acid',\n",
       " 'Ash',\n",
       " 'Alcalinity of Ash',\n",
       " 'Magnesium',\n",
       " 'Total Phenols',\n",
       " 'Flavanoids',\n",
       " 'Nonflavanoid Phenols',\n",
       " 'Proanthocyanins',\n",
       " 'Color Intensity',\n",
       " 'Hue',\n",
       " 'OD280_OD315',\n",
       " 'Proline']"
      ]
     },
     "execution_count": 7,
     "metadata": {},
     "output_type": "execute_result"
    }
   ],
   "source": [
    "feature_names = feature_columns.to_list()\n",
    "feature_names"
   ]
  },
  {
   "cell_type": "code",
   "execution_count": 8,
   "metadata": {},
   "outputs": [
    {
     "data": {
      "text/plain": [
       "(178, 14)"
      ]
     },
     "execution_count": 8,
     "metadata": {},
     "output_type": "execute_result"
    }
   ],
   "source": [
    "wine_df.shape"
   ]
  },
  {
   "cell_type": "code",
   "execution_count": 9,
   "metadata": {},
   "outputs": [
    {
     "name": "stdout",
     "output_type": "stream",
     "text": [
      "torch.Size([142, 13]) torch.Size([36, 13])\n",
      "torch.Size([142]) torch.Size([36])\n"
     ]
    }
   ],
   "source": [
    "\"\"\"\n",
    "1. Create a tensor from the wine df and separate the features and the target\n",
    "2. Randomly shuffle the data\n",
    "3. Split the data into training and testing sets\n",
    "\"\"\"\n",
    "wine_torch = torch.tensor(wine_df.to_numpy(dtype=np.float32))\n",
    "all_features, all_targets = wine_torch[:, 1:], wine_torch[:, 0].long()\n",
    "\n",
    "\n",
    "shuffled_indices = torch.randperm(len(all_features))\n",
    "all_features, all_targets = all_features[shuffled_indices], all_targets[shuffled_indices]\n",
    "\n",
    "train_ratio = 0.8\n",
    "train_count = int(train_ratio * len(all_features))\n",
    "train_features, train_targets = all_features[:train_count], all_targets[:train_count]\n",
    "test_features, test_targets = all_features[train_count:], all_targets[train_count:]\n",
    "\n",
    "print(train_features.shape, test_features.shape)\n",
    "print(train_targets.shape, test_targets.shape)"
   ]
  },
  {
   "cell_type": "markdown",
   "metadata": {},
   "source": [
    "# TorchSOM"
   ]
  },
  {
   "cell_type": "code",
   "execution_count": 10,
   "metadata": {},
   "outputs": [],
   "source": [
    "som = TorchSOM(\n",
    "    x=25,\n",
    "    y=15,\n",
    "    sigma=1.75,\n",
    "    learning_rate=0.95,\n",
    "    neighborhood_order=3,\n",
    "    epochs=100,\n",
    "    batch_size=16,\n",
    "    topology=\"rectangular\",\n",
    "    distance_function=\"euclidean\",\n",
    "    neighborhood_function=\"gaussian\",\n",
    "    num_features=all_features.shape[1],\n",
    "    lr_decay_function=\"asymptotic_decay\",\n",
    "    sigma_decay_function=\"asymptotic_decay\",\n",
    "    initialization_mode=\"pca\",\n",
    "    device=device,\n",
    "    random_seed=random_seed,\n",
    ") "
   ]
  },
  {
   "cell_type": "code",
   "execution_count": 11,
   "metadata": {},
   "outputs": [],
   "source": [
    "som.initialize_weights(\n",
    "    data=train_features,\n",
    ")"
   ]
  },
  {
   "cell_type": "code",
   "execution_count": 12,
   "metadata": {},
   "outputs": [
    {
     "name": "stderr",
     "output_type": "stream",
     "text": [
      "Training SOM: 100%|██████████| 100/100 [00:02<00:00, 36.81epoch/s]\n"
     ]
    }
   ],
   "source": [
    "QE, TE = som.fit(\n",
    "    data=train_features\n",
    ")"
   ]
  },
  {
   "cell_type": "code",
   "execution_count": 13,
   "metadata": {},
   "outputs": [],
   "source": [
    "visualizer = SOMVisualizer(som=som, config=None)\n",
    "save_path = \"results/wine\" # Set to None if you want a direct plot"
   ]
  },
  {
   "cell_type": "code",
   "execution_count": 14,
   "metadata": {},
   "outputs": [],
   "source": [
    "visualizer.plot_training_errors(\n",
    "    quantization_errors=QE, \n",
    "    topographic_errors=TE, \n",
    "    save_path=save_path\n",
    ")"
   ]
  },
  {
   "cell_type": "code",
   "execution_count": 15,
   "metadata": {},
   "outputs": [],
   "source": [
    "visualizer.plot_distance_map(save_path=save_path)"
   ]
  },
  {
   "cell_type": "code",
   "execution_count": 16,
   "metadata": {},
   "outputs": [],
   "source": [
    "visualizer.plot_hit_map(\n",
    "    data=train_features,\n",
    "    save_path=save_path\n",
    ")"
   ]
  },
  {
   "cell_type": "code",
   "execution_count": 22,
   "metadata": {},
   "outputs": [],
   "source": [
    "visualizer.plot_classification_map(\n",
    "    data=train_features,\n",
    "    target=train_targets,\n",
    "    save_path=save_path\n",
    ")"
   ]
  },
  {
   "cell_type": "code",
   "execution_count": 18,
   "metadata": {},
   "outputs": [],
   "source": [
    "visualizer.plot_component_planes(\n",
    "    component_names=feature_names,\n",
    "    save_path=save_path\n",
    ")"
   ]
  },
  {
   "cell_type": "code",
   "execution_count": null,
   "metadata": {},
   "outputs": [],
   "source": []
  }
 ],
 "metadata": {
  "kernelspec": {
   "display_name": ".venv_sensing",
   "language": "python",
   "name": "python3"
  },
  "language_info": {
   "codemirror_mode": {
    "name": "ipython",
    "version": 3
   },
   "file_extension": ".py",
   "mimetype": "text/x-python",
   "name": "python",
   "nbconvert_exporter": "python",
   "pygments_lexer": "ipython3",
   "version": "3.11.5"
  }
 },
 "nbformat": 4,
 "nbformat_minor": 2
}
